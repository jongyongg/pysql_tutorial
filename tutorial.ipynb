{
 "cells": [
  {
   "cell_type": "code",
   "execution_count": 11,
   "metadata": {},
   "outputs": [
    {
     "name": "stdout",
     "output_type": "stream",
     "text": [
      "데이터베이스에 성공적으로 연결되었습니다.\n"
     ]
    }
   ],
   "source": [
    "import psycopg2\n",
    "\n",
    "# 연결 파라미터 설정\n",
    "conn_params = {\n",
    "    'dbname': 'testdb',\n",
    "    'user': 'postgres',\n",
    "    'password': '1234',\n",
    "    'host': 'localhost',  # 데이터베이스 서버가 로컬에 있을 경우\n",
    "}\n",
    "\n",
    "# 데이터베이스 연결 시도\n",
    "try:\n",
    "    conn = psycopg2.connect(**conn_params)\n",
    "    print(\"데이터베이스에 성공적으로 연결되었습니다.\")\n",
    "except psycopg2.Error as e:\n",
    "    print(\"데이터베이스 연결 중 오류가 발생했습니다.\")\n",
    "    print(e)"
   ]
  },
  {
   "cell_type": "code",
   "execution_count": 12,
   "metadata": {},
   "outputs": [
    {
     "name": "stdout",
     "output_type": "stream",
     "text": [
      "테이블이 성공적으로 생성되었습니다.\n"
     ]
    }
   ],
   "source": [
    "# 커서 객체 생성\n",
    "cur = conn.cursor()\n",
    "\n",
    "# SQL 쿼리 실행: 테이블 생성\n",
    "create_table_query = \"\"\"\n",
    "CREATE TABLE IF NOT EXISTS users (\n",
    "    id SERIAL PRIMARY KEY,\n",
    "    name VARCHAR(50),\n",
    "    age INT\n",
    ");\n",
    "\"\"\"\n",
    "cur.execute(create_table_query)\n",
    "conn.commit()  # 쿼리 결과를 데이터베이스에 반영\n",
    "\n",
    "print(\"테이블이 성공적으로 생성되었습니다.\")"
   ]
  },
  {
   "cell_type": "code",
   "execution_count": 13,
   "metadata": {},
   "outputs": [
    {
     "name": "stdout",
     "output_type": "stream",
     "text": [
      "데이터가 성공적으로 삽입되었습니다.\n"
     ]
    }
   ],
   "source": [
    "# 데이터 삽입 쿼리\n",
    "insert_query = \"\"\"\n",
    "INSERT INTO users (name, age) VALUES (%s, %s);\n",
    "\"\"\"\n",
    "# 데이터 삽입 실행\n",
    "cur.execute(insert_query, ('sj', 26))\n",
    "conn.commit()\n",
    "\n",
    "print(\"데이터가 성공적으로 삽입되었습니다.\")"
   ]
  },
  {
   "cell_type": "code",
   "execution_count": 14,
   "metadata": {},
   "outputs": [
    {
     "name": "stdout",
     "output_type": "stream",
     "text": [
      "(1, 'jy', 26)\n",
      "(2, 'sj', 26)\n"
     ]
    }
   ],
   "source": [
    "# 데이터 조회 쿼리\n",
    "select_query = \"SELECT * FROM users;\"\n",
    "\n",
    "# 쿼리 실행\n",
    "cur.execute(select_query)\n",
    "\n",
    "# 모든 결과 행 가져오기\n",
    "rows = cur.fetchall()\n",
    "\n",
    "for row in rows:\n",
    "    print(row)\n",
    "\n",
    "# 자원 정리\n",
    "cur.close()\n",
    "conn.close()"
   ]
  },
  {
   "cell_type": "code",
   "execution_count": 15,
   "metadata": {},
   "outputs": [],
   "source": [
    "# 자원정리\n",
    "cur.close()\n",
    "conn.close()"
   ]
  }
 ],
 "metadata": {
  "kernelspec": {
   "display_name": "lion",
   "language": "python",
   "name": "python3"
  },
  "language_info": {
   "codemirror_mode": {
    "name": "ipython",
    "version": 3
   },
   "file_extension": ".py",
   "mimetype": "text/x-python",
   "name": "python",
   "nbconvert_exporter": "python",
   "pygments_lexer": "ipython3",
   "version": "3.10.13"
  }
 },
 "nbformat": 4,
 "nbformat_minor": 2
}
